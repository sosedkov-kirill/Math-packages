{
 "cells": [
  {
   "cell_type": "markdown",
   "metadata": {},
   "source": [
    "<h1> Индивидуальное соревнование по курсу \"Математические пакеты\" </h1>\n",
    "\n",
    "<p> Работу выполнил: Соседков Кирилл, группа 9383 </p>"
   ]
  },
  {
   "cell_type": "markdown",
   "metadata": {},
   "source": [
    "<h2> Цель работы </h2>\n",
    "\n",
    "<p> 1) Индивидуальное творческое соревнование. </p>\n",
    "<p> 2) Самостоятельное освоение одного из важных методов обучения без учителя — обучение без учителя.</p>\n",
    "<p> 3) Практическое применение дискретного преобразования Фурье для извлечения признаков обучения.</p>\n",
    "<p> 4) Использованием библиотек Python для кластеризации музыкальных сигналов. </p>"
   ]
  },
  {
   "cell_type": "markdown",
   "metadata": {},
   "source": [
    "<h2> Выполнение работы </h2>"
   ]
  },
  {
   "cell_type": "markdown",
   "metadata": {},
   "source": [
    "<h3> Загрузка mp3 файлов </h3>\n",
    "\n",
    "<p> Для загрузки mp3 файлов используется билиотека pydub </p>"
   ]
  },
  {
   "cell_type": "code",
   "execution_count": 1,
   "metadata": {},
   "outputs": [],
   "source": [
    "from pydub import AudioSegment\n",
    "\n",
    "def read_audio_signal(path):\n",
    "    sound = AudioSegment.from_mp3(path)\n",
    "    sound_info = dict()\n",
    "    sound_info['path'] = path\n",
    "    sound_info['data'] = sound\n",
    "    return sound_info"
   ]
  },
  {
   "cell_type": "markdown",
   "metadata": {},
   "source": [
    "<h3> Извлечение сигналов </h3>\n",
    "\n",
    "При загрузке сигнала берется полусумма каналов"
   ]
  },
  {
   "cell_type": "code",
   "execution_count": 2,
   "metadata": {},
   "outputs": [],
   "source": [
    "import numpy as np\n",
    "\n",
    "def extract_samples(sound):\n",
    "    samples = np.array(sound['data'].get_array_of_samples())\n",
    "    return (samples[0::2] + samples[1::2])/2"
   ]
  },
  {
   "cell_type": "markdown",
   "metadata": {},
   "source": [
    "<h2> Извлечение признаков </h2>\n",
    "\n",
    "<p>Для извлечения признаков используется дискретное преобразование Фурье</p>\n",
    "<p>Кадр является подходящим, если:\n",
    "    $ avg_i \\ge \\frac{avg}{3}$, где $ avg_i $ - среднее значение кадра, $ avg $ - среднее значение сигнала"
   ]
  },
  {
   "cell_type": "code",
   "execution_count": 3,
   "metadata": {},
   "outputs": [],
   "source": [
    "import numpy as np\n",
    "\n",
    "n = 128\n",
    "\n",
    "def extract_features(signal):\n",
    "    # 1 Сигнал разбивается на временные интервалы (кадры) одинаковой длины N отсчетов sm(i), где m— номер кадра.\n",
    "    signal_parts = np.array_split(signal, n)\n",
    "    \n",
    "    # 2 Для каждого подходящего кадра проводится предварительное оконное преобразование, \n",
    "    # чтобы уменьшить искажения при последующем вычислении ДПФ (модель сигнала): sˆm(i) = sm(i)w(i).\n",
    "    avg = np.average(np.abs(signal_parts))\n",
    "    for i in range(len(signal_parts)):\n",
    "        avg_i = np.average(np.abs(signal_parts[i]))\n",
    "        if(avg_i < avg/3): \n",
    "            signal_parts[i] = np.zeros(len(signal_parts[i]))\n",
    "        else:\n",
    "            signal_parts[i] = np.hamming(len(signal_parts[i]))*signal_parts[i]\n",
    "    \n",
    "    # 3 Далее для каждого подходящего кадра sˆm вычисляется амплитудный спектр Sm(k).\n",
    "    spectrum = []\n",
    "    for part in signal_parts:\n",
    "        spectrum.append(abs(np.fft.rfft(part, n = n)))\n",
    "\n",
    "    # 4 Формируем вектор среднего спектра по всем подходящим кадрам.\n",
    "    average = []\n",
    "    for spec in spectrum:\n",
    "        average.append(np.average(spec))\n",
    "        \n",
    "    return average"
   ]
  },
  {
   "cell_type": "markdown",
   "metadata": {},
   "source": [
    "<h2> Создание списка признаков для каждого сигнала </h2>"
   ]
  },
  {
   "cell_type": "code",
   "execution_count": 166,
   "metadata": {},
   "outputs": [],
   "source": [
    "import os\n",
    "\n",
    "features = []\n",
    "for filename in sorted(os.listdir('./mp3_2/')) :\n",
    "    if filename.endswith(\".mp3\"): \n",
    "        sound = (read_audio_signal(os.path.join('./mp3_2/', filename)))\n",
    "        signal = extract_samples(sound)\n",
    "        features.append(extract_features(signal))"
   ]
  },
  {
   "cell_type": "markdown",
   "metadata": {},
   "source": [
    "<h2> Кластеризация методом k-средних </h2>\n",
    "\n",
    "Параметры алгоритма подбирались так, чтобы значение компактности кластеров было минимальным"
   ]
  },
  {
   "cell_type": "code",
   "execution_count": 422,
   "metadata": {},
   "outputs": [],
   "source": [
    "from sklearn.cluster import KMeans\n",
    "\n",
    "X = np.array(features)\n",
    "kmeans = KMeans(init=\"k-means++\", n_clusters=5, n_init=624, max_iter=478).fit(X)"
   ]
  },
  {
   "cell_type": "markdown",
   "metadata": {},
   "source": [
    "<h2> Визуализация </h2>\n"
   ]
  },
  {
   "cell_type": "code",
   "execution_count": 433,
   "metadata": {},
   "outputs": [
    {
     "data": {
      "text/plain": [
       "<matplotlib.legend.Legend at 0x7ff0ea1b4eb0>"
      ]
     },
     "execution_count": 433,
     "metadata": {},
     "output_type": "execute_result"
    },
    {
     "data": {
      "image/png": "[encoded data removed]",
      "text/plain": [
       "<Figure size 432x288 with 1 Axes>"
      ]
     },
     "metadata": {
      "needs_background": "light"
     },
     "output_type": "display_data"
    }
   ],
   "source": [
    "import matplotlib.pyplot as plt\n",
    "from sklearn.decomposition import PCA\n",
    "from matplotlib.lines import Line2D\n",
    "\n",
    "\n",
    "# снижение размерности данных методом главных компонент(PCA)\n",
    "reduced_data = PCA(n_components=2).fit_transform(features)\n",
    "\n",
    "\n",
    "colors = ['#faaf23', '#123344', '#345678', '#ff1234', '#1bb133']\n",
    "\n",
    "for item, label in zip(reduced_data, kmeans.labels_):\n",
    "    plt.scatter(item[0], item[1], s=400, color=colors[label])\n",
    "    \n",
    "custom_lines = [Line2D([0], [0], color=colors[0], lw=2),\n",
    "                Line2D([0], [0], color=colors[1], lw=2),\n",
    "                Line2D([0], [0], color=colors[2], lw=2),\n",
    "                Line2D([0], [0], color=colors[3], lw=2),\n",
    "                Line2D([0], [0], color=colors[4], lw=2),]\n",
    "\n",
    "plt.legend(custom_lines, ['0', '1', '2', '3', '4'])"
   ]
  },
  {
   "cell_type": "markdown",
   "metadata": {},
   "source": [
    " <h2> Вычисление компактности кластеров </h2>"
   ]
  },
  {
   "cell_type": "code",
   "execution_count": 436,
   "metadata": {},
   "outputs": [
    {
     "name": "stdout",
     "output_type": "stream",
     "text": [
      "557275932.0258989\n"
     ]
    }
   ],
   "source": [
    "def cluster_cohesion(features, kmeans, centers):\n",
    "    clusters = 5\n",
    "    cc = 0\n",
    "    for label in range(clusters):\n",
    "        current_cluster = list(filter(lambda x: x[1] == label, list(zip(features, kmeans.labels_))))\n",
    "        for cluster in current_cluster:\n",
    "            cc += np.linalg.norm(cluster[0] - centers[label])**2\n",
    "    return (cc/clusters)\n",
    "\n",
    "print(cluster_cohesion(features, kmeans, kmeans.cluster_centers_))"
   ]
  },
  {
   "cell_type": "markdown",
   "metadata": {},
   "source": [
    "<h2> Запись полученных результатов в файл </h2>\n",
    "<p> Название файла: result.csv </p>"
   ]
  },
  {
   "cell_type": "code",
   "execution_count": 437,
   "metadata": {},
   "outputs": [],
   "source": [
    "# csv\n",
    "csv_data = []\n",
    "with open('result.csv', 'w') as f:\n",
    "    for filename, label in zip(sorted(os.listdir('./mp3_2/')), kmeans.labels_) :\n",
    "        if filename.endswith(\".mp3\"): \n",
    "            f.write(os.path.basename(filename + ', '  + str(label) + '\\n'))"
   ]
  },
  {
   "cell_type": "markdown",
   "metadata": {},
   "source": [
    "<h2> Вывод </h2>\n",
    "\n",
    "<p>При выполнении работы был освоен один из важных методов машинного обучения - обучение без учителя, на примере кластеризации музыкальных сигналов. \n",
    "Так же были получены практические навыки применения дискретного преобразования Фурье для извлечения признаков обучения.\n",
    "</p>\n"
   ]
  }
 ],
 "metadata": {
  "kernelspec": {
   "display_name": "Python 3",
   "language": "python",
   "name": "python3"
  },
  "language_info": {
   "codemirror_mode": {
    "name": "ipython",
    "version": 3
   },
   "file_extension": ".py",
   "mimetype": "text/x-python",
   "name": "python",
   "nbconvert_exporter": "python",
   "pygments_lexer": "ipython3",
   "version": "3.8.10"
  }
 },
 "nbformat": 4,
 "nbformat_minor": 4
}
