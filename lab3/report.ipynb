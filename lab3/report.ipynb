{
 "cells": [
  {
   "cell_type": "markdown",
   "metadata": {},
   "source": [
    "<h1> Лабораторная работа №3 </h1>\n",
    "\n",
    "<p> Работу выполнил студент группы 9383, Соседков Кирилл </p>"
   ]
  },
  {
   "cell_type": "markdown",
   "metadata": {},
   "source": [
    "<h2> Цель работы </h2>\n",
    "\n",
    "<p>Практическое применение библиотеки символьных вычислений Python (SymPy) для решения задач дискретной математики и математической логики.</p>"
   ]
  },
  {
   "cell_type": "markdown",
   "metadata": {},
   "source": [
    "<h2>Задачи</h2>\n",
    "<p>1. Решить свой вариант диофантова уравнения (Вариант 57).</p>\n",
    "\n",
    "<p>2. Имея открытую часть ключа RSA найти соответствующую закрытую часть и\n",
    "расшифровать кодированное слово (Вариант 57). </p>\n",
    "\n",
    "<p>3. Записать в формате ДНФ и КНФ булеву функцию, заданную своим аналитическим\n",
    "выражением (Вариант 77). </p>"
   ]
  },
  {
   "cell_type": "markdown",
   "metadata": {},
   "source": [
    "<h2> Выполнение работы </h2>"
   ]
  },
  {
   "cell_type": "markdown",
   "metadata": {},
   "source": [
    "<h3> 1. Решить диофантово уравнение \\( 1921x− 1938y = 153 \\) </h3> "
   ]
  },
  {
   "cell_type": "code",
   "execution_count": 59,
   "metadata": {},
   "outputs": [
    {
     "data": {
      "text/plain": [
       "{(114*t_0 - 9, 113*t_0 - 9)}"
      ]
     },
     "execution_count": 59,
     "metadata": {},
     "output_type": "execute_result"
    }
   ],
   "source": [
    "from sympy import symbols\n",
    "from sympy.solvers.diophantine import diophantine\n",
    "x, y = symbols(\"x, y\", integer=True)\n",
    "diophantine(1921*x - 1938*y - 153)"
   ]
  },
  {
   "cell_type": "markdown",
   "metadata": {},
   "source": [
    "<h3> Решение </h3> \n",
    "\n",
    "$$ x = 114t - 9  $$\n",
    "\n",
    "$$ y = 113t - 9 $$"
   ]
  },
  {
   "cell_type": "markdown",
   "metadata": {},
   "source": [
    "<h3> 2. Имея открытую часть ключа RSA найти соответствующую закрытую часть и\n",
    "расшифровать кодированное слово. </h3>\n",
    "\n",
    "<p> Условие: Русское слово из четырех букв закодировано при помощи алгоритма RSA открытым ключом (e = 9,m = 33).\n",
    "Шифрованное сообщение имеет вид (14; 28; 19; 32). Подберите закрытую часть ключа и прочитайте исходное слово.\n",
    "Буквам русского алфавита соответсвуют числа в диапазоне от 2 до 32 (исключены буквы “e” и “ъ”). </p>"
   ]
  },
  {
   "cell_type": "code",
   "execution_count": 66,
   "metadata": {},
   "outputs": [
    {
     "data": {
      "text/plain": [
       "'шлея'"
      ]
     },
     "execution_count": 66,
     "metadata": {},
     "output_type": "execute_result"
    }
   ],
   "source": [
    "from sympy.crypto.crypto import decipher_rsa\n",
    "from sympy.crypto.crypto import rsa_private_key\n",
    "\n",
    "m, e = 33, 9\n",
    "message = [14, 28, 19, 32]\n",
    "private_key = rsa_private_key(m, e)\n",
    "\n",
    "alphabet = 'а б в г д е ж з и й к л м н о п р с т у ф х ц ч ш щ ы ь э ю я'.split()\n",
    "decoded_message = ''.join([alphabet[decipher_rsa(number, private_key) - 2] for number in message])\n",
    "\n",
    "decoded_message"
   ]
  },
  {
   "cell_type": "markdown",
   "metadata": {},
   "source": [
    "<h3> Исходное слово: шлея </h3>"
   ]
  },
  {
   "cell_type": "markdown",
   "metadata": {},
   "source": [
    "<h3>3. Записать в формате ДНФ и КНФ булеву функцию</h3>\n",
    "\n",
    "$$ f(x, y, z) = ((y \\lor x) \\oplus (y \\land x)) \\oplus ((z \\land x) ∨ (z \\oplus y)) $$"
   ]
  },
  {
   "cell_type": "code",
   "execution_count": 68,
   "metadata": {},
   "outputs": [],
   "source": [
    "from sympy.logic.boolalg import to_dnf, to_cnf\n",
    "from sympy import symbols\n",
    "x, y, z = symbols('x y z')\n",
    "expression = ((y | x) ^ (y & x)) ^ ((z & x) | (z ^ y))"
   ]
  },
  {
   "cell_type": "markdown",
   "metadata": {},
   "source": [
    "<h4> ДНФ </h4>"
   ]
  },
  {
   "cell_type": "code",
   "execution_count": 69,
   "metadata": {},
   "outputs": [
    {
     "data": {
      "text/latex": [
       "$\\displaystyle \\left(x \\wedge \\neg z\\right) \\vee \\left(y \\wedge z\\right) \\vee \\left(z \\wedge \\neg x\\right)$"
      ],
      "text/plain": [
       "(y & z) | (x & ~z) | (z & ~x)"
      ]
     },
     "execution_count": 69,
     "metadata": {},
     "output_type": "execute_result"
    }
   ],
   "source": [
    "to_dnf(expression, simplify=True)"
   ]
  },
  {
   "cell_type": "markdown",
   "metadata": {},
   "source": [
    "<h4> КНФ </h4>"
   ]
  },
  {
   "cell_type": "code",
   "execution_count": 70,
   "metadata": {},
   "outputs": [
    {
     "data": {
      "text/latex": [
       "$\\displaystyle \\left(x \\vee z\\right) \\wedge \\left(y \\vee \\neg x \\vee \\neg z\\right)$"
      ],
      "text/plain": [
       "(x | z) & (y | ~x | ~z)"
      ]
     },
     "execution_count": 70,
     "metadata": {},
     "output_type": "execute_result"
    }
   ],
   "source": [
    "to_cnf(expression, simplify=True)"
   ]
  },
  {
   "cell_type": "markdown",
   "metadata": {},
   "source": [
    "<h3> Вывод </h3>\n",
    "<p> При выполнении работы были получены практические навыки использования библиотеки sympy для решения задач дискретной математики и математической логики. </p>"
   ]
  }
 ],
 "metadata": {
  "kernelspec": {
   "display_name": "Python 3",
   "language": "python",
   "name": "python3"
  },
  "language_info": {
   "codemirror_mode": {
    "name": "ipython",
    "version": 3
   },
   "file_extension": ".py",
   "mimetype": "text/x-python",
   "name": "python",
   "nbconvert_exporter": "python",
   "pygments_lexer": "ipython3",
   "version": "3.8.10"
  }
 },
 "nbformat": 4,
 "nbformat_minor": 4
}
